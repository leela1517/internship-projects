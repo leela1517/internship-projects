{
  "cells": [
    {
      "cell_type": "markdown",
      "metadata": {
        "id": "_gCZDNTjRL1H"
      },
      "source": [
        "Statistical Test\n",
        "\n",
        "\n",
        "There are 2 types of statistical test\n",
        "1)Parametric Statistical Test:-which assumes the shape of distribution is normal.\n",
        "\n",
        "\n",
        "Ex:Ztest.t test,ANOVA test\n",
        "\n",
        "\n",
        "2)Non Parametric Statistical test:-It doesnot assumes any shape conideration of samples\n",
        "\n",
        "Ex:-Chi square test\n"
      ]
    },
    {
      "cell_type": "markdown",
      "metadata": {
        "id": "VQE4jm9rDQTM"
      },
      "source": [
        "## Student’s t-Test\n",
        "A t-test is a type of inferential statistic used to determine if there is a significant difference between the means of two groups, which may be related in certain features."
      ]
    },
    {
      "cell_type": "markdown",
      "metadata": {
        "id": "-3Ni4aTJAGUS"
      },
      "source": [
        "H0: Both distributions are same.\n",
        "H1:Both distributions are not same."
      ]
    },
    {
      "cell_type": "code",
      "execution_count": null,
      "metadata": {
        "colab": {
          "base_uri": "https://localhost:8080/"
        },
        "id": "stYExnHvDQTl",
        "outputId": "f52ea127-018a-4214-f4c0-2b65a24666d7"
      },
      "outputs": [
        {
          "name": "stdout",
          "output_type": "stream",
          "text": [
            "data1: mean=50.303 stdv=4.426\n",
            "data2: mean=51.764 stdv=4.660\n"
          ]
        }
      ],
      "source": [
        "\n",
        "# generate gaussian data samples\n",
        "from numpy.random import seed\n",
        "from numpy.random import randn\n",
        "from numpy import mean\n",
        "from numpy import std\n",
        "# seed the random number generator\n",
        "seed(1)\n",
        "# generate two sets of univariate observations\n",
        "data1 = 5 * randn(100) + 50\n",
        "data2 = 5 * randn(100) + 51\n",
        "# summarize\n",
        "print('data1: mean=%.3f stdv=%.3f' % (mean(data1), std(data1)))\n",
        "print('data2: mean=%.3f stdv=%.3f' % (mean(data2), std(data2)))"
      ]
    },
    {
      "cell_type": "code",
      "execution_count": null,
      "metadata": {
        "colab": {
          "base_uri": "https://localhost:8080/"
        },
        "id": "yhCq-W8GDQTw",
        "outputId": "9c8f013d-7951-4442-8f8d-b51abd5f021e"
      },
      "outputs": [
        {
          "name": "stdout",
          "output_type": "stream",
          "text": [
            "Statistics=-2.262, p=0.025\n",
            "Different distributions (reject H0)\n"
          ]
        }
      ],
      "source": [
        "#Calc for independent samples\n",
        "from scipy.stats import ttest_ind\n",
        "# compare samples\n",
        "stat, p = ttest_ind(data1, data2)\n",
        "print('Statistics=%.3f, p=%.3f' % (stat, p))\n",
        "# interpret\n",
        "alpha = 0.05\n",
        "if p > alpha:\n",
        "    print('Same distributions (fail to reject H0)')\n",
        "else:\n",
        "    print('Different distributions (reject H0)')"
      ]
    },
    {
      "cell_type": "markdown",
      "metadata": {
        "id": "sObzewEYDQT1"
      },
      "source": [
        "## Paired Student’s t-Test"
      ]
    },
    {
      "cell_type": "markdown",
      "metadata": {
        "id": "VVsmnmSeQFf4"
      },
      "source": [
        "The correlated t-test is performed when the samples typically consist of matched pairs of similar units, or when there are cases of repeated measures. For example, there may be instances of the same patients being tested repeatedly—before and after receiving a particular treatment. In such cases, each patient is being used as a control sample against themselves.\n",
        "\n",
        "This method also applies to cases where the samples are related in some manner or have matching characteristics, like a comparative analysis involving children, parents or siblings. Correlated or paired t-tests are of a dependent type, as these involve cases where the two sets of samples are related.\n"
      ]
    },
    {
      "cell_type": "code",
      "execution_count": null,
      "metadata": {
        "colab": {
          "base_uri": "https://localhost:8080/"
        },
        "id": "dKI7NpXLDQT3",
        "outputId": "1a1e2dd8-fff7-497c-8b60-e874352f3157"
      },
      "outputs": [
        {
          "name": "stdout",
          "output_type": "stream",
          "text": [
            "Statistics=-2.372, p=0.020\n",
            "Different distributions (reject H0)\n"
          ]
        }
      ],
      "source": [
        "#if samples data1 ans data2 are related to each other. use ttest_rel\n",
        "# Paired Student's t-test\n",
        "from numpy.random import seed\n",
        "from numpy.random import randn\n",
        "from scipy.stats import ttest_rel\n",
        "# seed the random number generator\n",
        "seed(1)\n",
        "# generate two independent samples\n",
        "data1 = 5 * randn(100) + 50\n",
        "data2 = 5 * randn(100) + 51\n",
        "# compare samples\n",
        "stat, p = ttest_rel(data1, data2)\n",
        "print('Statistics=%.3f, p=%.3f' % (stat, p))\n",
        "# interpret\n",
        "alpha = 0.05\n",
        "if p > alpha:\n",
        "\tprint('Same distributions (fail to reject H0)')\n",
        "else:\n",
        "\tprint('Different distributions (reject H0)')"
      ]
    },
    {
      "cell_type": "code",
      "execution_count": null,
      "metadata": {
        "id": "yQ-fLR_KDQT5"
      },
      "outputs": [],
      "source": [
        "data1.size"
      ]
    },
    {
      "cell_type": "code",
      "execution_count": null,
      "metadata": {
        "id": "Y5IyPopVDQT7",
        "outputId": "e0f9fba4-034a-4714-ab65-3051ff7be280"
      },
      "outputs": [
        {
          "data": {
            "text/plain": [
              "array([ 1.62434536, -0.61175641, -0.52817175, -1.07296862,  0.86540763,\n",
              "       -2.3015387 ,  1.74481176, -0.7612069 ,  0.3190391 , -0.24937038])"
            ]
          },
          "execution_count": 50,
          "metadata": {},
          "output_type": "execute_result"
        }
      ],
      "source": [
        "a=randn(10)\n",
        "seed(1)\n",
        "a"
      ]
    },
    {
      "cell_type": "markdown",
      "metadata": {
        "id": "lai-YbFwDQT_"
      },
      "source": [
        "## Analysis of Variance Test"
      ]
    },
    {
      "cell_type": "markdown",
      "metadata": {
        "id": "bztBk9o3QfuZ"
      },
      "source": [
        "The one-way analysis of variance (ANOVA) is used to determine whether there are any statistically significant differences between the means of three or more independent (unrelated) group"
      ]
    },
    {
      "cell_type": "markdown",
      "metadata": {
        "id": "2YXXSjkEBNxX"
      },
      "source": [
        "H0:All 3 distributions are same.\n",
        "H1:All distribution are not same."
      ]
    },
    {
      "cell_type": "code",
      "execution_count": null,
      "metadata": {
        "colab": {
          "base_uri": "https://localhost:8080/"
        },
        "id": "sZDP0fc_DQT_",
        "outputId": "c6c7cfab-342b-42c7-8f7f-a231d5f3ad06"
      },
      "outputs": [
        {
          "name": "stdout",
          "output_type": "stream",
          "text": [
            "Statistics=3.655, p=0.027\n",
            "Different distributions (reject H0)\n"
          ]
        }
      ],
      "source": [
        "\n",
        "# Analysis of Variance test\n",
        "from numpy.random import seed\n",
        "from numpy.random import randn\n",
        "from scipy.stats import f_oneway\n",
        "# seed the random number generator\n",
        "seed(1)\n",
        "# generate three independent samples\n",
        "data1 = 5 * randn(100) + 50\n",
        "data2 = 5 * randn(100) + 50\n",
        "data3 = 5 * randn(100) + 52\n",
        "# compare samples\n",
        "stat, p = f_oneway(data1, data2, data3)\n",
        "print('Statistics=%.3f, p=%.3f' % (stat, p))\n",
        "# interpret\n",
        "alpha = 0.05\n",
        "if p > alpha:\n",
        "\tprint('Same distributions (fail to reject H0)')\n",
        "else:\n",
        "\tprint('Different distributions (reject H0)')\n"
      ]
    },
    {
      "cell_type": "markdown",
      "metadata": {
        "id": "kl5lX511s3_n"
      },
      "source": [
        "# One Sample T-test"
      ]
    },
    {
      "cell_type": "markdown",
      "metadata": {
        "id": "LcyEfkZdpV0R"
      },
      "source": [
        "Claim - Average Marriage Age of Indian male is 30 years\n",
        "\n",
        "Hypothesised Mean = 30\n",
        "\n",
        "\n",
        "Ho - Marriage age of male in India is 30\n",
        "\n",
        "Ha - Marriage age of male in India is not 30\n"
      ]
    },
    {
      "cell_type": "code",
      "execution_count": null,
      "metadata": {
        "id": "m5RCTG4MpUgl"
      },
      "outputs": [],
      "source": [
        "#Single Sample\n",
        "\n",
        "ind_mar_age = [26,33,32,35,32,29,26,27,29,30,34,33,40]\n"
      ]
    },
    {
      "cell_type": "code",
      "execution_count": null,
      "metadata": {
        "colab": {
          "base_uri": "https://localhost:8080/"
        },
        "id": "iPXNEyfSqE50",
        "outputId": "16c33b1d-da8b-403c-f5e5-c5a496d3a587"
      },
      "outputs": [
        {
          "name": "stdout",
          "output_type": "stream",
          "text": [
            "Skewness of sample is 0.5151351785444065\n",
            "Kurtosis of sample is -0.10547821841901106\n"
          ]
        }
      ],
      "source": [
        "from scipy import stats\n",
        "\n",
        "print(\"Skewness of sample is\", stats.skew(ind_mar_age))\n",
        "\n",
        "print(\"Kurtosis of sample is\", stats.kurtosis(ind_mar_age))\n"
      ]
    },
    {
      "cell_type": "code",
      "execution_count": null,
      "metadata": {
        "colab": {
          "base_uri": "https://localhost:8080/"
        },
        "id": "cVpPAjETqbRQ",
        "outputId": "ca8cb966-eba9-42b8-f4b3-92d8a73a901b"
      },
      "outputs": [
        {
          "data": {
            "text/plain": [
              "Ttest_1sampResult(statistic=1.114322136443128, pvalue=0.28696207905775795)"
            ]
          },
          "execution_count": 59,
          "metadata": {},
          "output_type": "execute_result"
        }
      ],
      "source": [
        "stats.ttest_1samp(ind_mar_age,30)"
      ]
    },
    {
      "cell_type": "markdown",
      "metadata": {
        "id": "8Tw_EzmcrRnM"
      },
      "source": [
        "Here p value is 0.28 means we are 28.69% sure that null hyposthesis is True.\n",
        "\n",
        "as per the 95% confidence level the p-value for null hypothesis to be True should be greater than 5% or (0.05) of significance level.\n",
        "\n",
        "here p_value is 0.28\n",
        "\n",
        "p_value > a (aplha)\n",
        "\n",
        "0.28 > 0.05\n",
        "\n",
        "hence null hypotheis is accepted.\n",
        "\n",
        "Marriage age of indian male is 30."
      ]
    },
    {
      "cell_type": "markdown",
      "metadata": {
        "id": "vaTq7Tips86z"
      },
      "source": [
        "## Two Sample independent T-test"
      ]
    },
    {
      "cell_type": "markdown",
      "metadata": {
        "id": "vGEFQcwrtRuX"
      },
      "source": [
        "Average marriage age of male in India is equal to marriage age of male in Canada"
      ]
    },
    {
      "cell_type": "markdown",
      "metadata": {
        "id": "IwzHiasLu_h5"
      },
      "source": [
        "Ho - Avg Marriage age is equal\n",
        "\n",
        "Ha - Avg age is not equal"
      ]
    },
    {
      "cell_type": "code",
      "execution_count": null,
      "metadata": {
        "id": "gFvQ5zJLqnuo"
      },
      "outputs": [],
      "source": [
        "mar_age_ind = [32,28,25,29,31,32,33,32,35,32,37]\n",
        "\n",
        "mar_age_can = [34,36,39,40,37,35,38,42,38,28,29]\n"
      ]
    },
    {
      "cell_type": "code",
      "execution_count": null,
      "metadata": {
        "colab": {
          "base_uri": "https://localhost:8080/"
        },
        "id": "19JlhmsJtzWr",
        "outputId": "6494e31d-1aec-42fe-c34e-a3cc571de874"
      },
      "outputs": [
        {
          "name": "stdout",
          "output_type": "stream",
          "text": [
            "Skewness of sample is -0.3175592491825672\n",
            "Kurtosis of sample is -0.07956171332882622\n",
            "Skewness of sample is -0.694789631109905\n",
            "Kurtosis of sample is -0.4541647804436395\n"
          ]
        }
      ],
      "source": [
        "from scipy import stats\n",
        "\n",
        "print(\"Skewness of sample is\", stats.skew(mar_age_ind))\n",
        "\n",
        "print(\"Kurtosis of sample is\", stats.kurtosis(mar_age_ind))\n",
        "\n",
        "print(\"Skewness of sample is\", stats.skew(mar_age_can))\n",
        "\n",
        "print(\"Kurtosis of sample is\", stats.kurtosis(mar_age_can))\n"
      ]
    },
    {
      "cell_type": "code",
      "execution_count": null,
      "metadata": {
        "colab": {
          "base_uri": "https://localhost:8080/"
        },
        "id": "AKSmQsPbuL4f",
        "outputId": "61423357-4e89-4aa4-c4a0-31a759be61ba"
      },
      "outputs": [
        {
          "data": {
            "text/plain": [
              "Ttest_indResult(statistic=-2.7769208356695327, pvalue=0.011635350464349445)"
            ]
          },
          "execution_count": 61,
          "metadata": {},
          "output_type": "execute_result"
        }
      ],
      "source": [
        "from scipy.stats import ttest_ind\n",
        "\n",
        "ttest_ind(mar_age_ind, mar_age_can)"
      ]
    },
    {
      "cell_type": "markdown",
      "metadata": {
        "id": "kltB3V5dwG5k"
      },
      "source": [
        "Here P_value is 1% (0.01) < 0.05 (alpha)\n",
        "\n",
        "So we reject null hypothesis\n",
        "\n",
        "We accept null hypothesis,\n",
        "\n",
        "Avg marriage of male in india is not equal to average age of male in canada.\n",
        "\n",
        "statistics values is -2.77\n",
        "\n",
        "negative value indicates,\n",
        "\n",
        "avg marriage age of indian male is less than avg marriage age of male in canada."
      ]
    },
    {
      "cell_type": "markdown",
      "metadata": {
        "id": "Ck02W8jPxLoB"
      },
      "source": [
        "# Two Sample Relational Test"
      ]
    },
    {
      "cell_type": "markdown",
      "metadata": {
        "id": "DQ5C51-AxgVY"
      },
      "source": [
        "A company claims that Redbull drink makes people more active. <br>\n",
        "\n",
        "Lets check this claim by applying tests.<br>\n",
        "\n",
        "Response/ Reaction time of five volunteers is registered before and after drinking drink."
      ]
    },
    {
      "cell_type": "code",
      "execution_count": null,
      "metadata": {
        "id": "CfN81OANxbGK"
      },
      "outputs": [],
      "source": [
        "before_rb = [45,53,66,42,57]\n",
        "\n",
        "after_rb = [35,42,35,36,32]\n"
      ]
    },
    {
      "cell_type": "markdown",
      "metadata": {
        "id": "mWuwB8s_yd3G"
      },
      "source": [
        "Ho = Response time is same before and after drinking redbull<br>\n",
        "\n",
        "Ha = Response time is not same before and after drinking redbull"
      ]
    },
    {
      "cell_type": "code",
      "execution_count": null,
      "metadata": {
        "colab": {
          "base_uri": "https://localhost:8080/"
        },
        "id": "Tv7DEzg2wCtf",
        "outputId": "b4bc5a13-0ed7-40d2-eb5a-7c4c08327d52"
      },
      "outputs": [
        {
          "data": {
            "text/plain": [
              "Ttest_relResult(statistic=3.4419395040356395, pvalue=0.026247132919799084)"
            ]
          },
          "execution_count": 62,
          "metadata": {},
          "output_type": "execute_result"
        }
      ],
      "source": [
        "from scipy.stats import ttest_rel\n",
        "\n",
        "ttest_rel(before_rb,after_rb)"
      ]
    },
    {
      "cell_type": "markdown",
      "metadata": {
        "id": "XM9HfUItzW1E"
      },
      "source": [
        "Here P_value is 0.026 (2%)\n",
        "\n",
        "p_value < 0.05 (alpha)\n",
        "\n",
        "hence reject null hypothesis and accept alternate hypothesis\n",
        "\n",
        "Response time before and after drinking redbull is not same.\n",
        "\n",
        "as t value is positive, means before_rb time is greater than after_rb time"
      ]
    },
    {
      "cell_type": "markdown",
      "metadata": {
        "id": "hocHYbwj2A-8"
      },
      "source": [
        "# Analysis of variance (ANOVA)\n",
        "\n",
        "6 volunteers were given coffee, lemon water, and red bull in three consecutive days respectively and the reading of their respective time/reaction time is noted as below"
      ]
    },
    {
      "cell_type": "code",
      "execution_count": null,
      "metadata": {
        "id": "haRQyRxo2Eda"
      },
      "outputs": [],
      "source": [
        "coffee = [250,170,180,240,220]\n",
        "\n",
        "lemon_water = [270,210,150,170,200]\n",
        "\n",
        "redbull = [220,180,120,210,180]\n",
        "\n"
      ]
    },
    {
      "cell_type": "markdown",
      "metadata": {
        "id": "EG-R9eQQ-3O6"
      },
      "source": [
        "Define Hypothesis\n",
        "\n",
        "Ho = Response time after drinking in morning any drink is same\n",
        "\n",
        "Ha = Response time after drinking in the morning is not same"
      ]
    },
    {
      "cell_type": "code",
      "execution_count": null,
      "metadata": {
        "colab": {
          "base_uri": "https://localhost:8080/"
        },
        "id": "U6vtZVBQ-2s0",
        "outputId": "f5a2693c-ff76-41e1-dc6f-94306cc49b8d"
      },
      "outputs": [
        {
          "data": {
            "text/plain": [
              "F_onewayResult(statistic=0.6993865030674846, pvalue=0.5160565545732914)"
            ]
          },
          "execution_count": 65,
          "metadata": {},
          "output_type": "execute_result"
        }
      ],
      "source": [
        "from scipy.stats import f_oneway\n",
        "\n",
        "f_oneway(coffee, lemon_water, redbull)"
      ]
    },
    {
      "cell_type": "markdown",
      "metadata": {
        "id": "zE_NBwi5_cgC"
      },
      "source": [
        "Here P_value is 0.51 (51%) which is more than 0.05 (5%)\n",
        "\n",
        "So we accept null hypothesis"
      ]
    },
    {
      "cell_type": "code",
      "execution_count": null,
      "metadata": {
        "id": "DHQK4VNHFhk7"
      },
      "outputs": [],
      "source": []
    }
  ],
  "metadata": {
    "colab": {
      "provenance": []
    },
    "kernelspec": {
      "display_name": "Python 3 (ipykernel)",
      "language": "python",
      "name": "python3"
    },
    "language_info": {
      "codemirror_mode": {
        "name": "ipython",
        "version": 3
      },
      "file_extension": ".py",
      "mimetype": "text/x-python",
      "name": "python",
      "nbconvert_exporter": "python",
      "pygments_lexer": "ipython3",
      "version": "3.9.13"
    }
  },
  "nbformat": 4,
  "nbformat_minor": 0
}