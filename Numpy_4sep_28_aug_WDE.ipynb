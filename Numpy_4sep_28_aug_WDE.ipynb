{
  "nbformat": 4,
  "nbformat_minor": 0,
  "metadata": {
    "colab": {
      "provenance": []
    },
    "kernelspec": {
      "name": "python3",
      "display_name": "Python 3"
    },
    "language_info": {
      "name": "python"
    }
  },
  "cells": [
    {
      "cell_type": "markdown",
      "source": [
        "NUMPY"
      ],
      "metadata": {
        "id": "9FuVhYRwHODQ"
      }
    },
    {
      "cell_type": "code",
      "execution_count": null,
      "metadata": {
        "id": "4H4sP7JnG57q"
      },
      "outputs": [],
      "source": [
        "#importing the library\n",
        "import numpy as np"
      ]
    },
    {
      "cell_type": "code",
      "source": [
        "# create a empty array\n",
        "\n",
        "# var = np.array([])\n",
        "\n",
        "arr = np.array([])\n",
        "\n",
        "print(arr)"
      ],
      "metadata": {
        "colab": {
          "base_uri": "https://localhost:8080/"
        },
        "id": "DM-TO1o3HzN-",
        "outputId": "ad662702-2486-46cb-b815-8ee1c5ed19e3"
      },
      "execution_count": null,
      "outputs": [
        {
          "output_type": "stream",
          "name": "stdout",
          "text": [
            "[]\n"
          ]
        }
      ]
    },
    {
      "cell_type": "code",
      "source": [
        "type(arr)  #nd --> n dimensional array"
      ],
      "metadata": {
        "colab": {
          "base_uri": "https://localhost:8080/"
        },
        "id": "umregOwbJCDG",
        "outputId": "fbcc4166-5653-4aca-94f6-0e40d7b4676e"
      },
      "execution_count": null,
      "outputs": [
        {
          "output_type": "execute_result",
          "data": {
            "text/plain": [
              "numpy.ndarray"
            ]
          },
          "metadata": {},
          "execution_count": 5
        }
      ]
    },
    {
      "cell_type": "code",
      "source": [
        "#create a array which holds , 2,3,4,5,5,2,1\n",
        "\n",
        "arr1 = np.array([2,3,4,5,5,2,1])\n",
        "print(arr1)"
      ],
      "metadata": {
        "colab": {
          "base_uri": "https://localhost:8080/"
        },
        "id": "EYJ9_wGhJGnN",
        "outputId": "5313236f-63fe-40f5-99dd-52068e778714"
      },
      "execution_count": null,
      "outputs": [
        {
          "output_type": "stream",
          "name": "stdout",
          "text": [
            "[2 3 4 5 5 2 1]\n"
          ]
        }
      ]
    },
    {
      "cell_type": "code",
      "source": [
        "# 10,20,30,50\n",
        "#type\n",
        "\n",
        "arr2 = np.array([10,20,30,40])\n",
        "arr2"
      ],
      "metadata": {
        "colab": {
          "base_uri": "https://localhost:8080/"
        },
        "id": "Ua2hho3LJj1S",
        "outputId": "7e75e536-e74c-478c-f840-f3c9b4b54308"
      },
      "execution_count": null,
      "outputs": [
        {
          "output_type": "execute_result",
          "data": {
            "text/plain": [
              "array([10, 20, 30, 40])"
            ]
          },
          "metadata": {},
          "execution_count": 8
        }
      ]
    },
    {
      "cell_type": "code",
      "source": [
        "#string values\n",
        "\n",
        "arr3 = np.array(('a','b','c'))\n",
        "print(arr3)"
      ],
      "metadata": {
        "colab": {
          "base_uri": "https://localhost:8080/"
        },
        "id": "zlB7J1y2KMDa",
        "outputId": "229fd248-b9af-41ca-b736-f1bacea672e9"
      },
      "execution_count": null,
      "outputs": [
        {
          "output_type": "stream",
          "name": "stdout",
          "text": [
            "['a' 'b' 'c']\n"
          ]
        }
      ]
    },
    {
      "cell_type": "code",
      "source": [
        "#create a array suing a list\n",
        "\n",
        "list = [1,2,3,4,5]\n",
        "\n",
        "array_list = np.array(list)\n",
        "print(array_list)"
      ],
      "metadata": {
        "colab": {
          "base_uri": "https://localhost:8080/"
        },
        "id": "Ye-UoYofLD92",
        "outputId": "febd000b-cc21-4878-d66e-b997cde38fb4"
      },
      "execution_count": null,
      "outputs": [
        {
          "output_type": "stream",
          "name": "stdout",
          "text": [
            "[1 2 3 4 5]\n"
          ]
        }
      ]
    },
    {
      "cell_type": "code",
      "source": [
        "#create a array using tuple\n",
        "\n",
        "tuple = (1,2,3,4,4,5,6)\n",
        "\n",
        "array_tuple = np.array(tuple)\n",
        "print(array_tuple)"
      ],
      "metadata": {
        "colab": {
          "base_uri": "https://localhost:8080/"
        },
        "id": "sSxS6dNHLUKs",
        "outputId": "7d3352a4-6a49-4902-dbf4-c42d9f0eac47"
      },
      "execution_count": null,
      "outputs": [
        {
          "output_type": "stream",
          "name": "stdout",
          "text": [
            "[1 2 3 4 4 5 6]\n"
          ]
        }
      ]
    },
    {
      "cell_type": "markdown",
      "source": [
        "1 D ----> 1 dimension"
      ],
      "metadata": {
        "id": "DuKRr9pgMOMz"
      }
    },
    {
      "cell_type": "code",
      "source": [
        "array = np.array([1,2,3,4,5])\n",
        "print(array)"
      ],
      "metadata": {
        "colab": {
          "base_uri": "https://localhost:8080/"
        },
        "id": "iRHMEv55LhmD",
        "outputId": "16232625-3096-480a-e785-597faef02739"
      },
      "execution_count": null,
      "outputs": [
        {
          "output_type": "stream",
          "name": "stdout",
          "text": [
            "[1 2 3 4 5]\n"
          ]
        }
      ]
    },
    {
      "cell_type": "code",
      "source": [
        "print('Dimension ',array.ndim)\n",
        "\n",
        "print('Number of elements ',array.size)\n",
        "\n",
        "print('The datatype of the array ',array.dtype)"
      ],
      "metadata": {
        "colab": {
          "base_uri": "https://localhost:8080/"
        },
        "id": "oEDMCLQ6MUkR",
        "outputId": "d68d5c2c-0297-46e8-938d-e7b135263c6f"
      },
      "execution_count": null,
      "outputs": [
        {
          "output_type": "stream",
          "name": "stdout",
          "text": [
            "Dimension  1\n",
            "Number of elements  5\n",
            "The datatype of the array  int64\n"
          ]
        }
      ]
    },
    {
      "cell_type": "code",
      "source": [
        "#array of float datatype and perform the previous steps"
      ],
      "metadata": {
        "id": "NV3XAGEzMmbD"
      },
      "execution_count": null,
      "outputs": []
    },
    {
      "cell_type": "markdown",
      "source": [
        "2 D - ARRAY\n",
        "\n",
        "\n",
        "These are called matrices (matrix) --> rectangular arrangement of elements in the form of rows and columns"
      ],
      "metadata": {
        "id": "g7D0ZKk_NmMy"
      }
    },
    {
      "cell_type": "code",
      "source": [
        "#2d\n",
        "\n",
        "#array_2d = np.array( [ [],[],[] ] )\n",
        "\n",
        "array_2d = np.array([[1,2],[3,4]])\n",
        "print(array_2d)"
      ],
      "metadata": {
        "colab": {
          "base_uri": "https://localhost:8080/"
        },
        "id": "IWLYLjkSNk_j",
        "outputId": "e65fabb5-bcd0-490e-e61b-1bb8727abcce"
      },
      "execution_count": null,
      "outputs": [
        {
          "output_type": "stream",
          "name": "stdout",
          "text": [
            "[[1 2]\n",
            " [3 4]]\n"
          ]
        }
      ]
    },
    {
      "cell_type": "code",
      "source": [
        "a = np.array([[1,2,3],[4,5,6],[7,8,9]])\n",
        "\n",
        "print(a)\n",
        "\n",
        "print(a.ndim)\n",
        "print(a.dtype)\n",
        "print(a.size)\n",
        "print('order of the matrix',a.shape)"
      ],
      "metadata": {
        "colab": {
          "base_uri": "https://localhost:8080/"
        },
        "id": "hps6FevSOw-u",
        "outputId": "0f8b8899-001a-4008-b157-ae9355c42692"
      },
      "execution_count": null,
      "outputs": [
        {
          "output_type": "stream",
          "name": "stdout",
          "text": [
            "[[1 2 3]\n",
            " [4 5 6]\n",
            " [7 8 9]]\n",
            "2\n",
            "int64\n",
            "9\n",
            "order of the matrix (3, 3)\n"
          ]
        }
      ]
    },
    {
      "cell_type": "markdown",
      "source": [
        "3D --> 3 dimension"
      ],
      "metadata": {
        "id": "lRByYcW2Qywh"
      }
    },
    {
      "cell_type": "code",
      "source": [
        "b = np.array( [ [ [1,2],[3,4],[2,4] ] ] )\n",
        "print(b)"
      ],
      "metadata": {
        "colab": {
          "base_uri": "https://localhost:8080/"
        },
        "id": "vQ4cSc-8QQJ6",
        "outputId": "9ba06aa7-4706-4e04-ab03-16b9488dca56"
      },
      "execution_count": null,
      "outputs": [
        {
          "output_type": "stream",
          "name": "stdout",
          "text": [
            "[[[1 2]\n",
            "  [3 4]\n",
            "  [2 4]]]\n"
          ]
        }
      ]
    },
    {
      "cell_type": "code",
      "source": [
        "print(b.ndim)\n",
        "print(b.dtype)\n",
        "print(b.size)\n",
        "print('order of the matrix',b.shape)"
      ],
      "metadata": {
        "colab": {
          "base_uri": "https://localhost:8080/"
        },
        "id": "mf60Fp1lPc0_",
        "outputId": "0bc9df56-8730-46ac-c4fc-397fcfe0639b"
      },
      "execution_count": null,
      "outputs": [
        {
          "output_type": "stream",
          "name": "stdout",
          "text": [
            "3\n",
            "int64\n",
            "6\n",
            "order of the matrix (1, 3, 2)\n"
          ]
        }
      ]
    },
    {
      "cell_type": "markdown",
      "source": [
        "BUILT IN function to generate numpy array"
      ],
      "metadata": {
        "id": "ynXtAH_YUn5M"
      }
    },
    {
      "cell_type": "code",
      "source": [
        "#arange ---> it is used to generate evenly space values within a given interval\n",
        "\n",
        "# 0 to 10   1,2,3,4,5,6,,,,10\n",
        "\n",
        "#100\n",
        "#it'll not include the end value in the given range\n",
        "\n",
        "np.arange(11)"
      ],
      "metadata": {
        "colab": {
          "base_uri": "https://localhost:8080/"
        },
        "id": "hsWoKwoURPAV",
        "outputId": "54e3a440-ca31-4c68-9184-a77692706458"
      },
      "execution_count": null,
      "outputs": [
        {
          "output_type": "execute_result",
          "data": {
            "text/plain": [
              "array([ 0,  1,  2,  3,  4,  5,  6,  7,  8,  9, 10])"
            ]
          },
          "metadata": {},
          "execution_count": 27
        }
      ]
    },
    {
      "cell_type": "code",
      "source": [
        "#30\n",
        "\n",
        "np.arange(31)"
      ],
      "metadata": {
        "colab": {
          "base_uri": "https://localhost:8080/"
        },
        "id": "05uSDYb_VCfJ",
        "outputId": "4b22577c-9ae9-4f93-967b-8f01378f5876"
      },
      "execution_count": null,
      "outputs": [
        {
          "output_type": "execute_result",
          "data": {
            "text/plain": [
              "array([ 0,  1,  2,  3,  4,  5,  6,  7,  8,  9, 10, 11, 12, 13, 14, 15, 16,\n",
              "       17, 18, 19, 20, 21, 22, 23, 24, 25, 26, 27, 28, 29, 30])"
            ]
          },
          "metadata": {},
          "execution_count": 28
        }
      ]
    },
    {
      "cell_type": "code",
      "source": [
        "# 1 to 10\n",
        "\n",
        "#start 1 end 11\n",
        "\n",
        "np.arange(1,11)"
      ],
      "metadata": {
        "colab": {
          "base_uri": "https://localhost:8080/"
        },
        "id": "hnHzSMKYVcuG",
        "outputId": "76f1c787-c177-442d-ba59-5847fb640197"
      },
      "execution_count": null,
      "outputs": [
        {
          "output_type": "execute_result",
          "data": {
            "text/plain": [
              "array([ 1,  2,  3,  4,  5,  6,  7,  8,  9, 10])"
            ]
          },
          "metadata": {},
          "execution_count": 29
        }
      ]
    },
    {
      "cell_type": "code",
      "source": [
        "#101 to 500\n"
      ],
      "metadata": {
        "id": "ZLvFuBXcVs8m"
      },
      "execution_count": null,
      "outputs": []
    },
    {
      "cell_type": "code",
      "source": [
        "np.arange(2,21,2)"
      ],
      "metadata": {
        "colab": {
          "base_uri": "https://localhost:8080/"
        },
        "id": "e8xBgUuyVxL3",
        "outputId": "5752b840-c5ef-4b33-ac05-28ee2173aaf7"
      },
      "execution_count": null,
      "outputs": [
        {
          "output_type": "execute_result",
          "data": {
            "text/plain": [
              "array([ 2,  4,  6,  8, 10, 12, 14, 16, 18, 20])"
            ]
          },
          "metadata": {},
          "execution_count": 30
        }
      ]
    },
    {
      "cell_type": "code",
      "source": [
        "#10 multiples of 5\n",
        "\n",
        "np.arange(5,51,5)"
      ],
      "metadata": {
        "colab": {
          "base_uri": "https://localhost:8080/"
        },
        "id": "v8ucnObSV_DI",
        "outputId": "2f96d244-f392-47a9-f03d-463136d1d08c"
      },
      "execution_count": null,
      "outputs": [
        {
          "output_type": "execute_result",
          "data": {
            "text/plain": [
              "array([ 5, 10, 15, 20, 25, 30, 35, 40, 45, 50])"
            ]
          },
          "metadata": {},
          "execution_count": 31
        }
      ]
    },
    {
      "cell_type": "markdown",
      "source": [
        "ONES\n",
        "\n",
        "returns an array with all one's"
      ],
      "metadata": {
        "id": "DaypbinGXLlT"
      }
    },
    {
      "cell_type": "code",
      "source": [
        "#1-d array with 10elments hving value 1\n",
        "np.ones(10)\n"
      ],
      "metadata": {
        "colab": {
          "base_uri": "https://localhost:8080/"
        },
        "id": "IcCVV88RWXU1",
        "outputId": "5757e8f7-f1e3-4cb3-b62f-9c139e25e04d"
      },
      "execution_count": null,
      "outputs": [
        {
          "output_type": "execute_result",
          "data": {
            "text/plain": [
              "array([1., 1., 1., 1., 1., 1., 1., 1., 1., 1.])"
            ]
          },
          "metadata": {},
          "execution_count": 32
        }
      ]
    },
    {
      "cell_type": "code",
      "source": [
        "#2d\n",
        "\n",
        "np.ones((2,2))"
      ],
      "metadata": {
        "colab": {
          "base_uri": "https://localhost:8080/"
        },
        "id": "zrmUfNAQXWKU",
        "outputId": "8ceaf3b2-7b75-4762-c90b-451beb7e9bb8"
      },
      "execution_count": null,
      "outputs": [
        {
          "output_type": "execute_result",
          "data": {
            "text/plain": [
              "array([[1., 1.],\n",
              "       [1., 1.]])"
            ]
          },
          "metadata": {},
          "execution_count": 33
        }
      ]
    },
    {
      "cell_type": "code",
      "source": [
        "#(5,3)\n",
        "np.ones((5,3))"
      ],
      "metadata": {
        "colab": {
          "base_uri": "https://localhost:8080/"
        },
        "id": "VN0EV9M4XiMv",
        "outputId": "fe126bbc-4d1d-4685-d4c6-6a1602ae6709"
      },
      "execution_count": null,
      "outputs": [
        {
          "output_type": "execute_result",
          "data": {
            "text/plain": [
              "array([[1., 1., 1.],\n",
              "       [1., 1., 1.],\n",
              "       [1., 1., 1.],\n",
              "       [1., 1., 1.],\n",
              "       [1., 1., 1.]])"
            ]
          },
          "metadata": {},
          "execution_count": 34
        }
      ]
    },
    {
      "cell_type": "markdown",
      "source": [
        "Zeros\n",
        "\n",
        "return an array with all zero as its value"
      ],
      "metadata": {
        "id": "oyQZ-YZEX9Bf"
      }
    },
    {
      "cell_type": "code",
      "source": [
        "np.zeros(5)  #1d"
      ],
      "metadata": {
        "colab": {
          "base_uri": "https://localhost:8080/"
        },
        "id": "6fmFkmaxX5wY",
        "outputId": "e058ca16-b94b-4064-8cf8-ed4c2689a488"
      },
      "execution_count": null,
      "outputs": [
        {
          "output_type": "execute_result",
          "data": {
            "text/plain": [
              "array([0., 0., 0., 0., 0.])"
            ]
          },
          "metadata": {},
          "execution_count": 35
        }
      ]
    },
    {
      "cell_type": "code",
      "source": [
        "np.zeros((2,2)) #2d"
      ],
      "metadata": {
        "colab": {
          "base_uri": "https://localhost:8080/"
        },
        "id": "TwTBl7TFYFly",
        "outputId": "37cc9542-abd7-4e9c-deb8-746f43e2852e"
      },
      "execution_count": null,
      "outputs": [
        {
          "output_type": "execute_result",
          "data": {
            "text/plain": [
              "array([[0., 0.],\n",
              "       [0., 0.]])"
            ]
          },
          "metadata": {},
          "execution_count": 37
        }
      ]
    },
    {
      "cell_type": "markdown",
      "source": [
        "indentity\n",
        "\n",
        "all the diagonal values will be 1, rest all the values will be 0"
      ],
      "metadata": {
        "id": "-BFFUm8rYQx-"
      }
    },
    {
      "cell_type": "code",
      "source": [
        "np.identity(2)"
      ],
      "metadata": {
        "colab": {
          "base_uri": "https://localhost:8080/"
        },
        "id": "a_X8ccBUYIz7",
        "outputId": "8ee31b29-911e-4ad5-894c-54f0d3bc9a67"
      },
      "execution_count": null,
      "outputs": [
        {
          "output_type": "execute_result",
          "data": {
            "text/plain": [
              "array([[1., 0.],\n",
              "       [0., 1.]])"
            ]
          },
          "metadata": {},
          "execution_count": 40
        }
      ]
    },
    {
      "cell_type": "code",
      "source": [
        "np.eye(3)"
      ],
      "metadata": {
        "colab": {
          "base_uri": "https://localhost:8080/"
        },
        "id": "eiSaQ_vtYf8z",
        "outputId": "9beb7108-6039-4cd8-a104-cc643ee3d3cd"
      },
      "execution_count": null,
      "outputs": [
        {
          "output_type": "execute_result",
          "data": {
            "text/plain": [
              "array([[1., 0., 0.],\n",
              "       [0., 1., 0.],\n",
              "       [0., 0., 1.]])"
            ]
          },
          "metadata": {},
          "execution_count": 39
        }
      ]
    },
    {
      "cell_type": "code",
      "source": [
        "np.eye(5,3)"
      ],
      "metadata": {
        "colab": {
          "base_uri": "https://localhost:8080/"
        },
        "id": "bR4tlVIkYi7B",
        "outputId": "67eb9bb7-7e73-47cd-b54e-07e87fac4a5a"
      },
      "execution_count": null,
      "outputs": [
        {
          "output_type": "execute_result",
          "data": {
            "text/plain": [
              "array([[1., 0., 0.],\n",
              "       [0., 1., 0.],\n",
              "       [0., 0., 1.],\n",
              "       [0., 0., 0.],\n",
              "       [0., 0., 0.]])"
            ]
          },
          "metadata": {},
          "execution_count": 45
        }
      ]
    },
    {
      "cell_type": "code",
      "source": [
        "#full  -----. used to generate array with same elemnts\n",
        "\n",
        "#np.full((dimension),value)\n",
        "\n",
        "np.full((2,2),10)"
      ],
      "metadata": {
        "colab": {
          "base_uri": "https://localhost:8080/"
        },
        "id": "AOOEzNjnYvLi",
        "outputId": "8a3d40c6-d700-4cd7-a183-7029a97a6e06"
      },
      "execution_count": null,
      "outputs": [
        {
          "output_type": "execute_result",
          "data": {
            "text/plain": [
              "array([[10, 10],\n",
              "       [10, 10]])"
            ]
          },
          "metadata": {},
          "execution_count": 47
        }
      ]
    },
    {
      "cell_type": "code",
      "source": [
        "np.full((3,3),2)"
      ],
      "metadata": {
        "colab": {
          "base_uri": "https://localhost:8080/"
        },
        "id": "XX1FZfQSaBjY",
        "outputId": "0b4e0d65-d55f-4a7a-bee2-3019214ec81f"
      },
      "execution_count": null,
      "outputs": [
        {
          "output_type": "execute_result",
          "data": {
            "text/plain": [
              "array([[2, 2, 2],\n",
              "       [2, 2, 2],\n",
              "       [2, 2, 2]])"
            ]
          },
          "metadata": {},
          "execution_count": 48
        }
      ]
    },
    {
      "cell_type": "code",
      "source": [
        "import numpy as np"
      ],
      "metadata": {
        "id": "MpqxMU-lMy0h"
      },
      "execution_count": null,
      "outputs": []
    },
    {
      "cell_type": "code",
      "source": [
        "#linspace ---> linear space\n",
        "\n",
        "# using linspace we cam genearte linearly spaced values\n",
        "\n",
        "np.linspace(1,5)"
      ],
      "metadata": {
        "id": "Oo8Mk14-aHp1",
        "colab": {
          "base_uri": "https://localhost:8080/"
        },
        "outputId": "265426dc-78b7-4220-9c5d-fbe73ac156da"
      },
      "execution_count": null,
      "outputs": [
        {
          "output_type": "execute_result",
          "data": {
            "text/plain": [
              "array([1.        , 1.08163265, 1.16326531, 1.24489796, 1.32653061,\n",
              "       1.40816327, 1.48979592, 1.57142857, 1.65306122, 1.73469388,\n",
              "       1.81632653, 1.89795918, 1.97959184, 2.06122449, 2.14285714,\n",
              "       2.2244898 , 2.30612245, 2.3877551 , 2.46938776, 2.55102041,\n",
              "       2.63265306, 2.71428571, 2.79591837, 2.87755102, 2.95918367,\n",
              "       3.04081633, 3.12244898, 3.20408163, 3.28571429, 3.36734694,\n",
              "       3.44897959, 3.53061224, 3.6122449 , 3.69387755, 3.7755102 ,\n",
              "       3.85714286, 3.93877551, 4.02040816, 4.10204082, 4.18367347,\n",
              "       4.26530612, 4.34693878, 4.42857143, 4.51020408, 4.59183673,\n",
              "       4.67346939, 4.75510204, 4.83673469, 4.91836735, 5.        ])"
            ]
          },
          "metadata": {},
          "execution_count": 3
        }
      ]
    },
    {
      "cell_type": "code",
      "source": [
        "np.linspace(1,100,retstep = True)"
      ],
      "metadata": {
        "colab": {
          "base_uri": "https://localhost:8080/"
        },
        "id": "CHXf_L8jMsB9",
        "outputId": "b0621ef4-b56f-4053-b3c8-90075218c5c3"
      },
      "execution_count": null,
      "outputs": [
        {
          "output_type": "execute_result",
          "data": {
            "text/plain": [
              "(array([  1.        ,   3.02040816,   5.04081633,   7.06122449,\n",
              "          9.08163265,  11.10204082,  13.12244898,  15.14285714,\n",
              "         17.16326531,  19.18367347,  21.20408163,  23.2244898 ,\n",
              "         25.24489796,  27.26530612,  29.28571429,  31.30612245,\n",
              "         33.32653061,  35.34693878,  37.36734694,  39.3877551 ,\n",
              "         41.40816327,  43.42857143,  45.44897959,  47.46938776,\n",
              "         49.48979592,  51.51020408,  53.53061224,  55.55102041,\n",
              "         57.57142857,  59.59183673,  61.6122449 ,  63.63265306,\n",
              "         65.65306122,  67.67346939,  69.69387755,  71.71428571,\n",
              "         73.73469388,  75.75510204,  77.7755102 ,  79.79591837,\n",
              "         81.81632653,  83.83673469,  85.85714286,  87.87755102,\n",
              "         89.89795918,  91.91836735,  93.93877551,  95.95918367,\n",
              "         97.97959184, 100.        ]),\n",
              " 2.020408163265306)"
            ]
          },
          "metadata": {},
          "execution_count": 5
        }
      ]
    },
    {
      "cell_type": "code",
      "source": [
        "np.linspace(1,1000,num = 10,retstep = True)"
      ],
      "metadata": {
        "colab": {
          "base_uri": "https://localhost:8080/"
        },
        "id": "9Cuq2vQ0Nrq-",
        "outputId": "17e1e21d-e268-4b00-a6ab-8bbcc71b34f7"
      },
      "execution_count": null,
      "outputs": [
        {
          "output_type": "execute_result",
          "data": {
            "text/plain": [
              "(array([   1.,  112.,  223.,  334.,  445.,  556.,  667.,  778.,  889.,\n",
              "        1000.]),\n",
              " 111.0)"
            ]
          },
          "metadata": {},
          "execution_count": 11
        }
      ]
    },
    {
      "cell_type": "markdown",
      "source": [
        "Random generation of numbers"
      ],
      "metadata": {
        "id": "TJ5cLxaSQnWx"
      }
    },
    {
      "cell_type": "code",
      "source": [
        "#randint  -> it is used to generate random integers from the interval\n",
        "\n",
        "#create an array which includes 10 random intergers 1 to 100\n",
        "\n",
        "np.random.randint(1,100,10)   #(start, end , number of random integers you want)"
      ],
      "metadata": {
        "colab": {
          "base_uri": "https://localhost:8080/"
        },
        "id": "J0lyCvCqOcsX",
        "outputId": "0c64b1ec-138a-478c-905d-a5d4d377e065"
      },
      "execution_count": null,
      "outputs": [
        {
          "output_type": "execute_result",
          "data": {
            "text/plain": [
              "array([71, 82,  6, 91, 15, 99, 10, 17, 53, 77])"
            ]
          },
          "metadata": {},
          "execution_count": 15
        }
      ]
    },
    {
      "cell_type": "code",
      "source": [
        "#5 random intergers 1 to 1000\n",
        "\n",
        "np.random.randint(1,1000,5)"
      ],
      "metadata": {
        "colab": {
          "base_uri": "https://localhost:8080/"
        },
        "id": "zr7wiAY3RQzX",
        "outputId": "f2d73f50-5966-44cb-fd35-88c46c34469d"
      },
      "execution_count": null,
      "outputs": [
        {
          "output_type": "execute_result",
          "data": {
            "text/plain": [
              "array([326, 272, 655,  39, 734])"
            ]
          },
          "metadata": {},
          "execution_count": 16
        }
      ]
    },
    {
      "cell_type": "code",
      "source": [
        "#2d array\n",
        "\n",
        "np.random.randint (10,30,size=(2,2))"
      ],
      "metadata": {
        "colab": {
          "base_uri": "https://localhost:8080/"
        },
        "id": "dtSWvNaySK8u",
        "outputId": "2b6cb956-e8f4-4ade-c96a-258f455668b0"
      },
      "execution_count": null,
      "outputs": [
        {
          "output_type": "execute_result",
          "data": {
            "text/plain": [
              "array([[13, 20],\n",
              "       [10, 24]])"
            ]
          },
          "metadata": {},
          "execution_count": 17
        }
      ]
    },
    {
      "cell_type": "code",
      "source": [
        "np.random.randint (10,30,size=(3,3))"
      ],
      "metadata": {
        "colab": {
          "base_uri": "https://localhost:8080/"
        },
        "id": "7TAQX6nMT1q-",
        "outputId": "c49ea41d-a0f4-432b-c058-56b04a36063a"
      },
      "execution_count": null,
      "outputs": [
        {
          "output_type": "execute_result",
          "data": {
            "text/plain": [
              "array([[22, 22, 22],\n",
              "       [24, 13, 29],\n",
              "       [14, 24, 15]])"
            ]
          },
          "metadata": {},
          "execution_count": 18
        }
      ]
    },
    {
      "cell_type": "code",
      "source": [
        "#2d array order(2,3) range 2 to 200\n",
        "np.random.randint(2,200,size=(2,3))"
      ],
      "metadata": {
        "colab": {
          "base_uri": "https://localhost:8080/"
        },
        "id": "u_7Ken95T6vb",
        "outputId": "0076cae4-77da-4560-cd6e-afc802f73693"
      },
      "execution_count": null,
      "outputs": [
        {
          "output_type": "execute_result",
          "data": {
            "text/plain": [
              "array([[183, 114,  23],\n",
              "       [ 36, 176, 107]])"
            ]
          },
          "metadata": {},
          "execution_count": 19
        }
      ]
    },
    {
      "cell_type": "code",
      "source": [
        "# rand --- it generates random values betwen the range of [0,1]\n",
        "\n",
        "#10 random intergers between 0 to 1\n",
        "\n",
        "np.random.rand(10)"
      ],
      "metadata": {
        "colab": {
          "base_uri": "https://localhost:8080/"
        },
        "id": "746YnwXwUQE6",
        "outputId": "0f026f8d-f333-4206-876c-5feed7629ad4"
      },
      "execution_count": null,
      "outputs": [
        {
          "output_type": "execute_result",
          "data": {
            "text/plain": [
              "array([0.05659468, 0.73894045, 0.21353982, 0.35015614, 0.79870464,\n",
              "       0.11716821, 0.80872359, 0.7557124 , 0.82426959, 0.08880121])"
            ]
          },
          "metadata": {},
          "execution_count": 20
        }
      ]
    },
    {
      "cell_type": "code",
      "source": [
        "np.random.rand(50)"
      ],
      "metadata": {
        "colab": {
          "base_uri": "https://localhost:8080/"
        },
        "id": "D2L0sbKNUtSe",
        "outputId": "1c62c9cd-d4de-4442-db7f-f5855ba723b7"
      },
      "execution_count": null,
      "outputs": [
        {
          "output_type": "execute_result",
          "data": {
            "text/plain": [
              "array([0.41513695, 0.9998607 , 0.78197056, 0.94724866, 0.57403965,\n",
              "       0.71671821, 0.24919475, 0.21502727, 0.45713014, 0.82774348,\n",
              "       0.47117646, 0.3934602 , 0.49801831, 0.98445983, 0.5876238 ,\n",
              "       0.74380979, 0.11533812, 0.51735509, 0.6734464 , 0.10090491,\n",
              "       0.30686495, 0.10681721, 0.73646098, 0.97621995, 0.80152739,\n",
              "       0.15578598, 0.23044689, 0.19237173, 0.15884902, 0.28110883,\n",
              "       0.52054565, 0.17050513, 0.40271858, 0.76412136, 0.24736029,\n",
              "       0.75804401, 0.60611242, 0.52595952, 0.3576    , 0.57719177,\n",
              "       0.90683225, 0.49040649, 0.22074037, 0.3515202 , 0.36003175,\n",
              "       0.55540962, 0.25315099, 0.5615607 , 0.68437573, 0.3112982 ])"
            ]
          },
          "metadata": {},
          "execution_count": 21
        }
      ]
    },
    {
      "cell_type": "code",
      "source": [
        "#create a 2d array (4,4) with random numbers between 0 to 1\n",
        "\n",
        "np.random.rand(4,4)"
      ],
      "metadata": {
        "colab": {
          "base_uri": "https://localhost:8080/"
        },
        "id": "biE5FVEOU0VX",
        "outputId": "faf1efcd-ab73-4eed-b015-a5ee385c13c1"
      },
      "execution_count": null,
      "outputs": [
        {
          "output_type": "execute_result",
          "data": {
            "text/plain": [
              "array([[0.86421561, 0.97187864, 0.43525333, 0.82623505],\n",
              "       [0.38217066, 0.82100361, 0.19987811, 0.01505084],\n",
              "       [0.68962783, 0.0320977 , 0.54639156, 0.26309684],\n",
              "       [0.16790515, 0.91277129, 0.79404907, 0.22078841]])"
            ]
          },
          "metadata": {},
          "execution_count": 22
        }
      ]
    },
    {
      "cell_type": "code",
      "source": [
        "#(7,3)\n",
        "np.random.rand(7,3)"
      ],
      "metadata": {
        "colab": {
          "base_uri": "https://localhost:8080/"
        },
        "id": "1VNjehU4ViBQ",
        "outputId": "b22f7ded-b520-40ac-bb1f-83601adebbac"
      },
      "execution_count": null,
      "outputs": [
        {
          "output_type": "execute_result",
          "data": {
            "text/plain": [
              "array([[0.85628311, 0.91366276, 0.61214492],\n",
              "       [0.65756117, 0.16937189, 0.11251364],\n",
              "       [0.43013901, 0.37715155, 0.47963686],\n",
              "       [0.66243687, 0.09983769, 0.51573248],\n",
              "       [0.80562719, 0.44505632, 0.49157297],\n",
              "       [0.03316971, 0.82418307, 0.40528852],\n",
              "       [0.15899675, 0.23569926, 0.87807524]])"
            ]
          },
          "metadata": {},
          "execution_count": 23
        }
      ]
    },
    {
      "cell_type": "code",
      "source": [
        "#randn --->it is used to generate random numbers from normal distribution within a range [-3 3]\n",
        "\n"
      ],
      "metadata": {
        "id": "tAduf5ZJV6rO"
      },
      "execution_count": null,
      "outputs": []
    },
    {
      "cell_type": "code",
      "source": [
        "#generate 10 random numbers from normal distribution\n",
        "\n",
        "#you are generating 10 random numbers in the range of [-3 3]\n",
        "\n",
        "np.random.randn(10)"
      ],
      "metadata": {
        "colab": {
          "base_uri": "https://localhost:8080/"
        },
        "id": "HjF0mA4MWwK9",
        "outputId": "edfa8662-d8a9-4ddd-d9e5-5a32f870b925"
      },
      "execution_count": null,
      "outputs": [
        {
          "output_type": "execute_result",
          "data": {
            "text/plain": [
              "array([ 0.31816509, -0.28031564,  0.50472458, -0.6748867 ,  0.01709673,\n",
              "        0.6707227 , -0.64195863, -2.01730828, -2.80968349, -0.5188628 ])"
            ]
          },
          "metadata": {},
          "execution_count": 24
        }
      ]
    },
    {
      "cell_type": "code",
      "source": [
        "np.random.randn(5,5)"
      ],
      "metadata": {
        "colab": {
          "base_uri": "https://localhost:8080/"
        },
        "id": "YqOJN5buXN1K",
        "outputId": "13b3213d-66a6-45b0-8067-bf6ecb22e30d"
      },
      "execution_count": null,
      "outputs": [
        {
          "output_type": "execute_result",
          "data": {
            "text/plain": [
              "array([[-0.71725114, -1.90611559,  0.76042061,  0.37439826, -1.08888504],\n",
              "       [ 0.90006492,  1.54307257,  1.67999535,  1.45437395, -1.95133838],\n",
              "       [ 0.9964016 , -0.59070174, -0.34439068,  1.67444659,  1.68058713],\n",
              "       [-0.56439722,  0.28275513,  0.75309888,  1.43594237,  0.16242077],\n",
              "       [ 1.0450776 ,  0.0208264 , -0.25226881,  0.28683491,  0.13817772]])"
            ]
          },
          "metadata": {},
          "execution_count": 25
        }
      ]
    },
    {
      "cell_type": "code",
      "source": [
        "#create 10 random intergers 1 , 1000\n",
        "\n",
        "a = np.random.randint(1,1000,10)\n",
        "print(a)"
      ],
      "metadata": {
        "colab": {
          "base_uri": "https://localhost:8080/"
        },
        "id": "FTXhOi4UXr7s",
        "outputId": "89875d58-a912-4c0e-c96c-2e11926a1fbf"
      },
      "execution_count": null,
      "outputs": [
        {
          "output_type": "stream",
          "name": "stdout",
          "text": [
            "[ 54 761  17 309 115 956  24 409 131 230]\n"
          ]
        }
      ]
    },
    {
      "cell_type": "code",
      "source": [
        "#maximun number\n",
        "\n",
        "np.max(a)"
      ],
      "metadata": {
        "colab": {
          "base_uri": "https://localhost:8080/"
        },
        "id": "NZrAZadaagRL",
        "outputId": "c345a34c-d311-4e03-df2d-a2d4e8b671e6"
      },
      "execution_count": null,
      "outputs": [
        {
          "output_type": "execute_result",
          "data": {
            "text/plain": [
              "956"
            ]
          },
          "metadata": {},
          "execution_count": 29
        }
      ]
    },
    {
      "cell_type": "code",
      "source": [
        "# argmax - it used to get the index value of the maximun value in the array\n",
        "\n",
        "np.argmax(a)"
      ],
      "metadata": {
        "colab": {
          "base_uri": "https://localhost:8080/"
        },
        "id": "E03kPkmNax3Q",
        "outputId": "48e27dc1-1976-46ba-8243-15fdbf5366c2"
      },
      "execution_count": null,
      "outputs": [
        {
          "output_type": "execute_result",
          "data": {
            "text/plain": [
              "5"
            ]
          },
          "metadata": {},
          "execution_count": 30
        }
      ]
    },
    {
      "cell_type": "code",
      "source": [
        "#minimun\n",
        "\n",
        "np.min(a)"
      ],
      "metadata": {
        "colab": {
          "base_uri": "https://localhost:8080/"
        },
        "id": "e1Xi9ipVbOMy",
        "outputId": "ee22e7a2-bec9-4196-89df-d6fa92e648cd"
      },
      "execution_count": null,
      "outputs": [
        {
          "output_type": "execute_result",
          "data": {
            "text/plain": [
              "17"
            ]
          },
          "metadata": {},
          "execution_count": 31
        }
      ]
    },
    {
      "cell_type": "code",
      "source": [
        "np.argmin(a)"
      ],
      "metadata": {
        "colab": {
          "base_uri": "https://localhost:8080/"
        },
        "id": "opP7_JYdbgo5",
        "outputId": "b4119a8f-99ae-4255-c8c5-835a58243848"
      },
      "execution_count": null,
      "outputs": [
        {
          "output_type": "execute_result",
          "data": {
            "text/plain": [
              "2"
            ]
          },
          "metadata": {},
          "execution_count": 32
        }
      ]
    },
    {
      "cell_type": "markdown",
      "source": [
        "Indexing"
      ],
      "metadata": {
        "id": "X6WvDdPdbtbi"
      }
    },
    {
      "cell_type": "code",
      "source": [
        "b = np.arange(10,20)\n",
        "print(b)"
      ],
      "metadata": {
        "colab": {
          "base_uri": "https://localhost:8080/"
        },
        "id": "BUoxM6H6bkNg",
        "outputId": "c10b53d6-f4db-470f-ee48-af4cd9f94d5a"
      },
      "execution_count": null,
      "outputs": [
        {
          "output_type": "stream",
          "name": "stdout",
          "text": [
            "[10 11 12 13 14 15 16 17 18 19]\n"
          ]
        }
      ]
    },
    {
      "cell_type": "code",
      "source": [
        "#fetch 1219\n",
        "\n",
        "#array_name[ index number]\n",
        "\n",
        "b[2]"
      ],
      "metadata": {
        "colab": {
          "base_uri": "https://localhost:8080/"
        },
        "id": "npFC82-zb-zu",
        "outputId": "942fa462-4bd7-4c43-81bb-7bb1f12c7ee0"
      },
      "execution_count": null,
      "outputs": [
        {
          "output_type": "execute_result",
          "data": {
            "text/plain": [
              "12"
            ]
          },
          "metadata": {},
          "execution_count": 36
        }
      ]
    },
    {
      "cell_type": "code",
      "source": [
        "#last\n",
        "\n",
        "b[-1]"
      ],
      "metadata": {
        "colab": {
          "base_uri": "https://localhost:8080/"
        },
        "id": "Bz9kLpBHcnlA",
        "outputId": "e209396f-b25b-4ec6-ae19-cf3a9f0a615f"
      },
      "execution_count": null,
      "outputs": [
        {
          "output_type": "execute_result",
          "data": {
            "text/plain": [
              "19"
            ]
          },
          "metadata": {},
          "execution_count": 37
        }
      ]
    },
    {
      "cell_type": "code",
      "source": [
        "#first\n",
        "\n",
        "b[0]"
      ],
      "metadata": {
        "colab": {
          "base_uri": "https://localhost:8080/"
        },
        "id": "MsWW6ZDocrcY",
        "outputId": "1e4e8071-90ef-40ae-8f3a-40a671bff78e"
      },
      "execution_count": null,
      "outputs": [
        {
          "output_type": "execute_result",
          "data": {
            "text/plain": [
              "10"
            ]
          },
          "metadata": {},
          "execution_count": 38
        }
      ]
    },
    {
      "cell_type": "code",
      "source": [
        "print(b)"
      ],
      "metadata": {
        "colab": {
          "base_uri": "https://localhost:8080/"
        },
        "id": "hvsbuhpkcupS",
        "outputId": "e4c2aa6d-f79e-4091-8a90-80645777ae8b"
      },
      "execution_count": null,
      "outputs": [
        {
          "output_type": "stream",
          "name": "stdout",
          "text": [
            "[10 11 12 13 14 15 16 17 18 19]\n"
          ]
        }
      ]
    },
    {
      "cell_type": "code",
      "source": [
        "b[1:4]"
      ],
      "metadata": {
        "colab": {
          "base_uri": "https://localhost:8080/"
        },
        "id": "JHNEc8indXE6",
        "outputId": "aac72ba5-e321-4392-c177-083c583dcdfd"
      },
      "execution_count": null,
      "outputs": [
        {
          "output_type": "execute_result",
          "data": {
            "text/plain": [
              "array([11, 12, 13])"
            ]
          },
          "metadata": {},
          "execution_count": 43
        }
      ]
    },
    {
      "cell_type": "code",
      "source": [
        "#reverse\n",
        "\n",
        "b[ : : -1]"
      ],
      "metadata": {
        "colab": {
          "base_uri": "https://localhost:8080/"
        },
        "id": "UMD3ioKZdc1_",
        "outputId": "1722f831-2db4-475f-9092-7fab807dafaf"
      },
      "execution_count": null,
      "outputs": [
        {
          "output_type": "execute_result",
          "data": {
            "text/plain": [
              "array([19, 18, 17, 16, 15, 14, 13, 12, 11, 10])"
            ]
          },
          "metadata": {},
          "execution_count": 44
        }
      ]
    },
    {
      "cell_type": "markdown",
      "source": [
        "Indexing with 2d array"
      ],
      "metadata": {
        "id": "ArisMzgAeZgz"
      }
    },
    {
      "cell_type": "code",
      "source": [
        "a = np.array([[1,2,3],[3,4,5],[7,8,9]])\n",
        "print(a)\n"
      ],
      "metadata": {
        "colab": {
          "base_uri": "https://localhost:8080/"
        },
        "id": "JNqi0NYud6_8",
        "outputId": "999e47a5-4535-47d2-9b4f-2af2f216b5ea"
      },
      "execution_count": null,
      "outputs": [
        {
          "output_type": "stream",
          "name": "stdout",
          "text": [
            "[[1 2 3]\n",
            " [3 4 5]\n",
            " [7 8 9]]\n"
          ]
        }
      ]
    },
    {
      "cell_type": "code",
      "source": [
        "#fetch first row\n",
        "\n",
        "print(a[[0]])"
      ],
      "metadata": {
        "colab": {
          "base_uri": "https://localhost:8080/"
        },
        "id": "JJP3dFL9eoK7",
        "outputId": "89f589f9-44e5-4431-cb93-1360444cde09"
      },
      "execution_count": null,
      "outputs": [
        {
          "output_type": "stream",
          "name": "stdout",
          "text": [
            "[[1 2 3]]\n"
          ]
        }
      ]
    },
    {
      "cell_type": "code",
      "source": [
        "#fetch first row\n",
        "\n",
        "print(a[[1]])"
      ],
      "metadata": {
        "colab": {
          "base_uri": "https://localhost:8080/"
        },
        "id": "BxxF7gk2fzyp",
        "outputId": "a48414bc-4ad3-41e9-d4ac-0f85b76fdb05"
      },
      "execution_count": null,
      "outputs": [
        {
          "output_type": "stream",
          "name": "stdout",
          "text": [
            "[[3 4 5]]\n"
          ]
        }
      ]
    },
    {
      "cell_type": "code",
      "source": [
        "#fetch first row\n",
        "\n",
        "print(a[[2]])"
      ],
      "metadata": {
        "colab": {
          "base_uri": "https://localhost:8080/"
        },
        "id": "xl1p9nAlf5XV",
        "outputId": "121928af-e55f-46fd-d58b-be2793ee71d9"
      },
      "execution_count": null,
      "outputs": [
        {
          "output_type": "stream",
          "name": "stdout",
          "text": [
            "[[7 8 9]]\n"
          ]
        }
      ]
    },
    {
      "cell_type": "code",
      "source": [
        "#fetch first and second row\n",
        "\n",
        "a[[0,1]]\n"
      ],
      "metadata": {
        "colab": {
          "base_uri": "https://localhost:8080/"
        },
        "id": "tswlAEOwf7DR",
        "outputId": "a339e946-7355-418d-d3f5-3246f8f125da"
      },
      "execution_count": null,
      "outputs": [
        {
          "output_type": "execute_result",
          "data": {
            "text/plain": [
              "array([[1, 2, 3],\n",
              "       [3, 4, 5]])"
            ]
          },
          "metadata": {},
          "execution_count": 50
        }
      ]
    },
    {
      "cell_type": "code",
      "source": [
        "#fetching 2nd and 3rd row\n",
        "a[[1,2]]"
      ],
      "metadata": {
        "colab": {
          "base_uri": "https://localhost:8080/"
        },
        "id": "3tSvEwQ6gKK6",
        "outputId": "07f281bb-9513-4909-8e06-3675e8d75bbd"
      },
      "execution_count": null,
      "outputs": [
        {
          "output_type": "execute_result",
          "data": {
            "text/plain": [
              "array([[3, 4, 5],\n",
              "       [7, 8, 9]])"
            ]
          },
          "metadata": {},
          "execution_count": 51
        }
      ]
    },
    {
      "cell_type": "code",
      "source": [
        "a"
      ],
      "metadata": {
        "colab": {
          "base_uri": "https://localhost:8080/"
        },
        "id": "vqwnrodYgVrv",
        "outputId": "c32edf0a-5141-42d9-9bf7-2da6f75a50d0"
      },
      "execution_count": null,
      "outputs": [
        {
          "output_type": "execute_result",
          "data": {
            "text/plain": [
              "array([[1, 2, 3],\n",
              "       [3, 4, 5],\n",
              "       [7, 8, 9]])"
            ]
          },
          "metadata": {},
          "execution_count": 53
        }
      ]
    },
    {
      "cell_type": "code",
      "source": [
        "a[0][0]"
      ],
      "metadata": {
        "colab": {
          "base_uri": "https://localhost:8080/"
        },
        "id": "WiCsKxZ6gOvt",
        "outputId": "ccbd6f57-0908-4448-b9c7-4a08243ed91a"
      },
      "execution_count": null,
      "outputs": [
        {
          "output_type": "execute_result",
          "data": {
            "text/plain": [
              "1"
            ]
          },
          "metadata": {},
          "execution_count": 54
        }
      ]
    },
    {
      "cell_type": "code",
      "source": [
        "a[2][2]"
      ],
      "metadata": {
        "colab": {
          "base_uri": "https://localhost:8080/"
        },
        "id": "JioLV8gphnTl",
        "outputId": "a8069e27-02fa-48af-f6fd-630890819f5d"
      },
      "execution_count": null,
      "outputs": [
        {
          "output_type": "execute_result",
          "data": {
            "text/plain": [
              "9"
            ]
          },
          "metadata": {},
          "execution_count": 57
        }
      ]
    },
    {
      "cell_type": "code",
      "source": [
        "#fetch first column\n",
        "\n",
        "a[:,[0]]"
      ],
      "metadata": {
        "colab": {
          "base_uri": "https://localhost:8080/"
        },
        "id": "JihDm8dyhrWz",
        "outputId": "452ee15b-6b87-41ee-cd2f-8f2fd7eb1fad"
      },
      "execution_count": null,
      "outputs": [
        {
          "output_type": "execute_result",
          "data": {
            "text/plain": [
              "array([[1],\n",
              "       [3],\n",
              "       [7]])"
            ]
          },
          "metadata": {},
          "execution_count": 58
        }
      ]
    },
    {
      "cell_type": "code",
      "source": [
        "a[:,[1]]"
      ],
      "metadata": {
        "colab": {
          "base_uri": "https://localhost:8080/"
        },
        "id": "ZxsBfoSnirS1",
        "outputId": "98dd40a7-e3a1-4fcc-80d3-67f54cdf1174"
      },
      "execution_count": null,
      "outputs": [
        {
          "output_type": "execute_result",
          "data": {
            "text/plain": [
              "array([[2],\n",
              "       [4],\n",
              "       [8]])"
            ]
          },
          "metadata": {},
          "execution_count": 59
        }
      ]
    },
    {
      "cell_type": "code",
      "source": [
        "a[:,[1,2]]"
      ],
      "metadata": {
        "colab": {
          "base_uri": "https://localhost:8080/"
        },
        "id": "-g3OQBZZiv8m",
        "outputId": "b4750c57-5af7-4d62-8d55-f4f44e10de23"
      },
      "execution_count": null,
      "outputs": [
        {
          "output_type": "execute_result",
          "data": {
            "text/plain": [
              "array([[2, 3],\n",
              "       [4, 5],\n",
              "       [8, 9]])"
            ]
          },
          "metadata": {},
          "execution_count": 73
        }
      ]
    },
    {
      "cell_type": "code",
      "source": [
        "a1 = np.array([10,20,30,40,50])\n",
        "\n",
        "a2 = np.array([2,4,6,8,10])"
      ],
      "metadata": {
        "id": "IYnFn3CTizZH"
      },
      "execution_count": null,
      "outputs": []
    },
    {
      "cell_type": "code",
      "source": [
        "a1 + a2"
      ],
      "metadata": {
        "colab": {
          "base_uri": "https://localhost:8080/"
        },
        "id": "ORz91PfyjMPp",
        "outputId": "743e818f-8e92-48b4-a998-947b52490625"
      },
      "execution_count": null,
      "outputs": [
        {
          "output_type": "execute_result",
          "data": {
            "text/plain": [
              "array([12, 24, 36, 48, 60])"
            ]
          },
          "metadata": {},
          "execution_count": 69
        }
      ]
    },
    {
      "cell_type": "code",
      "source": [
        "a1 - a2"
      ],
      "metadata": {
        "colab": {
          "base_uri": "https://localhost:8080/"
        },
        "id": "qpNK7GGhjRvu",
        "outputId": "4ccc87f5-5461-4dbe-da1e-6e1124819ae6"
      },
      "execution_count": null,
      "outputs": [
        {
          "output_type": "execute_result",
          "data": {
            "text/plain": [
              "array([ 8, 16, 24, 32, 40])"
            ]
          },
          "metadata": {},
          "execution_count": 63
        }
      ]
    },
    {
      "cell_type": "code",
      "source": [
        "a1 * a2"
      ],
      "metadata": {
        "colab": {
          "base_uri": "https://localhost:8080/"
        },
        "id": "Gq1wz7BwjYdj",
        "outputId": "09dfbffc-de18-4b62-a457-1ad6b9412e47"
      },
      "execution_count": null,
      "outputs": [
        {
          "output_type": "execute_result",
          "data": {
            "text/plain": [
              "array([ 20,  80, 180, 320, 500])"
            ]
          },
          "metadata": {},
          "execution_count": 64
        }
      ]
    },
    {
      "cell_type": "code",
      "source": [
        "a1 / a2"
      ],
      "metadata": {
        "colab": {
          "base_uri": "https://localhost:8080/"
        },
        "id": "IekfAyCGjcDv",
        "outputId": "5531dc39-ad0c-4916-d0b4-2350e41add79"
      },
      "execution_count": null,
      "outputs": [
        {
          "output_type": "execute_result",
          "data": {
            "text/plain": [
              "array([5., 5., 5., 5., 5.])"
            ]
          },
          "metadata": {},
          "execution_count": 65
        }
      ]
    },
    {
      "cell_type": "code",
      "source": [],
      "metadata": {
        "id": "FTbm0Ul_jd2t"
      },
      "execution_count": null,
      "outputs": []
    }
  ]
}